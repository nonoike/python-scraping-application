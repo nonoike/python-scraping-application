{
 "cells": [
  {
   "cell_type": "code",
   "execution_count": 1,
   "metadata": {},
   "outputs": [],
   "source": [
    "from assets.database import db_session, init_db\n",
    "from assets.models import Data\n",
    "\n",
    "import datetime"
   ]
  },
  {
   "cell_type": "markdown",
   "metadata": {},
   "source": [
    "まずはDB設定・接続"
   ]
  },
  {
   "cell_type": "code",
   "execution_count": 2,
   "metadata": {},
   "outputs": [
    {
     "name": "stdout",
     "output_type": "stream",
     "text": [
      "2019-05-26 14:47:16,683 INFO sqlalchemy.engine.base.Engine SELECT CAST('test plain returns' AS VARCHAR(60)) AS anon_1\n",
      "2019-05-26 14:47:16,684 INFO sqlalchemy.engine.base.Engine ()\n",
      "2019-05-26 14:47:16,686 INFO sqlalchemy.engine.base.Engine SELECT CAST('test unicode returns' AS VARCHAR(60)) AS anon_1\n",
      "2019-05-26 14:47:16,687 INFO sqlalchemy.engine.base.Engine ()\n",
      "2019-05-26 14:47:16,691 INFO sqlalchemy.engine.base.Engine PRAGMA table_info(\"data\")\n",
      "2019-05-26 14:47:16,693 INFO sqlalchemy.engine.base.Engine ()\n",
      "2019-05-26 14:47:16,698 INFO sqlalchemy.engine.base.Engine \n",
      "CREATE TABLE data (\n",
      "\tid INTEGER NOT NULL, \n",
      "\tdate DATE, \n",
      "\tsubscribers INTEGER, \n",
      "\treviews INTEGER, \n",
      "\ttimestamp DATETIME, \n",
      "\tPRIMARY KEY (id)\n",
      ")\n",
      "\n",
      "\n",
      "2019-05-26 14:47:16,700 INFO sqlalchemy.engine.base.Engine ()\n",
      "2019-05-26 14:47:16,707 INFO sqlalchemy.engine.base.Engine COMMIT\n"
     ]
    }
   ],
   "source": [
    "init_db()"
   ]
  },
  {
   "cell_type": "markdown",
   "metadata": {},
   "source": [
    "# CREATE"
   ]
  },
  {
   "cell_type": "code",
   "execution_count": 3,
   "metadata": {},
   "outputs": [
    {
     "data": {
      "text/plain": [
       "datetime.date(2019, 5, 26)"
      ]
     },
     "execution_count": 3,
     "metadata": {},
     "output_type": "execute_result"
    }
   ],
   "source": [
    "date = datetime.date.today()\n",
    "date"
   ]
  },
  {
   "cell_type": "code",
   "execution_count": 4,
   "metadata": {},
   "outputs": [
    {
     "data": {
      "text/plain": [
       "<assets.models.Data at 0x7f6b8dd08400>"
      ]
     },
     "execution_count": 4,
     "metadata": {},
     "output_type": "execute_result"
    }
   ],
   "source": [
    "row = Data(date=date, subscribers=3500, reviews=200)\n",
    "row"
   ]
  },
  {
   "cell_type": "code",
   "execution_count": 5,
   "metadata": {},
   "outputs": [],
   "source": [
    "db_session.add(row)"
   ]
  },
  {
   "cell_type": "markdown",
   "metadata": {},
   "source": [
    "データ操作は `commit()` してDBに反映される"
   ]
  },
  {
   "cell_type": "code",
   "execution_count": 6,
   "metadata": {},
   "outputs": [
    {
     "name": "stdout",
     "output_type": "stream",
     "text": [
      "2019-05-26 14:47:16,760 INFO sqlalchemy.engine.base.Engine BEGIN (implicit)\n",
      "2019-05-26 14:47:16,766 INFO sqlalchemy.engine.base.Engine INSERT INTO data (date, subscribers, reviews, timestamp) VALUES (?, ?, ?, ?)\n",
      "2019-05-26 14:47:16,768 INFO sqlalchemy.engine.base.Engine ('2019-05-26', 3500, 200, '2019-05-26 14:47:16.672335')\n",
      "2019-05-26 14:47:16,777 INFO sqlalchemy.engine.base.Engine COMMIT\n"
     ]
    }
   ],
   "source": [
    "db_session.commit()"
   ]
  },
  {
   "cell_type": "code",
   "execution_count": 7,
   "metadata": {},
   "outputs": [],
   "source": [
    "row1 = Data(date=date, subscribers=6500, reviews=210)\n",
    "row2 = Data(date=date, subscribers=1500, reviews=220)"
   ]
  },
  {
   "cell_type": "code",
   "execution_count": 8,
   "metadata": {},
   "outputs": [],
   "source": [
    "db_session().add(row1)\n",
    "db_session().add(row2)"
   ]
  },
  {
   "cell_type": "markdown",
   "metadata": {},
   "source": [
    "複数のデータを `add` しても `commit()` の操作は1回"
   ]
  },
  {
   "cell_type": "code",
   "execution_count": 9,
   "metadata": {},
   "outputs": [
    {
     "name": "stdout",
     "output_type": "stream",
     "text": [
      "2019-05-26 14:47:16,815 INFO sqlalchemy.engine.base.Engine BEGIN (implicit)\n",
      "2019-05-26 14:47:16,816 INFO sqlalchemy.engine.base.Engine INSERT INTO data (date, subscribers, reviews, timestamp) VALUES (?, ?, ?, ?)\n",
      "2019-05-26 14:47:16,817 INFO sqlalchemy.engine.base.Engine ('2019-05-26', 6500, 210, '2019-05-26 14:47:16.672335')\n",
      "2019-05-26 14:47:16,824 INFO sqlalchemy.engine.base.Engine INSERT INTO data (date, subscribers, reviews, timestamp) VALUES (?, ?, ?, ?)\n",
      "2019-05-26 14:47:16,825 INFO sqlalchemy.engine.base.Engine ('2019-05-26', 1500, 220, '2019-05-26 14:47:16.672335')\n",
      "2019-05-26 14:47:16,828 INFO sqlalchemy.engine.base.Engine COMMIT\n"
     ]
    }
   ],
   "source": [
    "db_session.commit()"
   ]
  },
  {
   "cell_type": "markdown",
   "metadata": {},
   "source": [
    "# READ"
   ]
  },
  {
   "cell_type": "code",
   "execution_count": 10,
   "metadata": {},
   "outputs": [
    {
     "name": "stdout",
     "output_type": "stream",
     "text": [
      "2019-05-26 14:47:16,852 INFO sqlalchemy.engine.base.Engine BEGIN (implicit)\n",
      "2019-05-26 14:47:16,853 INFO sqlalchemy.engine.base.Engine SELECT data.id AS data_id, data.date AS data_date, data.subscribers AS data_subscribers, data.reviews AS data_reviews, data.timestamp AS data_timestamp \n",
      "FROM data\n",
      "2019-05-26 14:47:16,855 INFO sqlalchemy.engine.base.Engine ()\n"
     ]
    },
    {
     "data": {
      "text/plain": [
       "[<assets.models.Data at 0x7f6b8dd08400>,\n",
       " <assets.models.Data at 0x7f6b8dc7f668>,\n",
       " <assets.models.Data at 0x7f6b8dc7f6d8>]"
      ]
     },
     "execution_count": 10,
     "metadata": {},
     "output_type": "execute_result"
    }
   ],
   "source": [
    "db_session.query(Data).all()"
   ]
  },
  {
   "cell_type": "code",
   "execution_count": 11,
   "metadata": {},
   "outputs": [
    {
     "name": "stdout",
     "output_type": "stream",
     "text": [
      "2019-05-26 14:47:16,867 INFO sqlalchemy.engine.base.Engine SELECT data.id AS data_id, data.date AS data_date, data.subscribers AS data_subscribers, data.reviews AS data_reviews, data.timestamp AS data_timestamp \n",
      "FROM data\n",
      "2019-05-26 14:47:16,868 INFO sqlalchemy.engine.base.Engine ()\n"
     ]
    },
    {
     "data": {
      "text/plain": [
       "3500"
      ]
     },
     "execution_count": 11,
     "metadata": {},
     "output_type": "execute_result"
    }
   ],
   "source": [
    "db_session.query(Data).all()[0].subscribers"
   ]
  },
  {
   "cell_type": "markdown",
   "metadata": {},
   "source": [
    "# UPDATE"
   ]
  },
  {
   "cell_type": "code",
   "execution_count": 12,
   "metadata": {},
   "outputs": [
    {
     "name": "stdout",
     "output_type": "stream",
     "text": [
      "2019-05-26 14:47:16,880 INFO sqlalchemy.engine.base.Engine SELECT data.id AS data_id, data.date AS data_date, data.subscribers AS data_subscribers, data.reviews AS data_reviews, data.timestamp AS data_timestamp \n",
      "FROM data\n",
      "2019-05-26 14:47:16,882 INFO sqlalchemy.engine.base.Engine ()\n"
     ]
    },
    {
     "data": {
      "text/plain": [
       "<assets.models.Data at 0x7f6b8dd08400>"
      ]
     },
     "execution_count": 12,
     "metadata": {},
     "output_type": "execute_result"
    }
   ],
   "source": [
    "datum = db_session.query(Data).all()[0]\n",
    "datum"
   ]
  },
  {
   "cell_type": "code",
   "execution_count": 13,
   "metadata": {},
   "outputs": [],
   "source": [
    "datum.subscribers = 10000"
   ]
  },
  {
   "cell_type": "code",
   "execution_count": 14,
   "metadata": {},
   "outputs": [
    {
     "name": "stdout",
     "output_type": "stream",
     "text": [
      "2019-05-26 14:47:16,903 INFO sqlalchemy.engine.base.Engine UPDATE data SET subscribers=? WHERE data.id = ?\n",
      "2019-05-26 14:47:16,905 INFO sqlalchemy.engine.base.Engine (10000, 1)\n",
      "2019-05-26 14:47:16,915 INFO sqlalchemy.engine.base.Engine COMMIT\n"
     ]
    }
   ],
   "source": [
    "db_session.add(datum)\n",
    "db_session.commit()"
   ]
  },
  {
   "cell_type": "code",
   "execution_count": 15,
   "metadata": {},
   "outputs": [
    {
     "name": "stdout",
     "output_type": "stream",
     "text": [
      "2019-05-26 14:47:16,938 INFO sqlalchemy.engine.base.Engine BEGIN (implicit)\n",
      "2019-05-26 14:47:16,941 INFO sqlalchemy.engine.base.Engine SELECT data.id AS data_id, data.date AS data_date, data.subscribers AS data_subscribers, data.reviews AS data_reviews, data.timestamp AS data_timestamp \n",
      "FROM data\n",
      "2019-05-26 14:47:16,944 INFO sqlalchemy.engine.base.Engine ()\n"
     ]
    },
    {
     "data": {
      "text/plain": [
       "10000"
      ]
     },
     "execution_count": 15,
     "metadata": {},
     "output_type": "execute_result"
    }
   ],
   "source": [
    "db_session.query(Data).all()[0].subscribers"
   ]
  },
  {
   "cell_type": "markdown",
   "metadata": {},
   "source": [
    "# DELETE"
   ]
  },
  {
   "cell_type": "code",
   "execution_count": 16,
   "metadata": {},
   "outputs": [
    {
     "name": "stdout",
     "output_type": "stream",
     "text": [
      "2019-05-26 14:47:16,963 INFO sqlalchemy.engine.base.Engine SELECT data.id AS data_id, data.date AS data_date, data.subscribers AS data_subscribers, data.reviews AS data_reviews, data.timestamp AS data_timestamp \n",
      "FROM data \n",
      "WHERE data.subscribers = ?\n",
      "2019-05-26 14:47:16,965 INFO sqlalchemy.engine.base.Engine (10000,)\n"
     ]
    },
    {
     "data": {
      "text/plain": [
       "10000"
      ]
     },
     "execution_count": 16,
     "metadata": {},
     "output_type": "execute_result"
    }
   ],
   "source": [
    "datum = db_session.query(Data).filter_by(subscribers=10000).one()\n",
    "datum.subscribers"
   ]
  },
  {
   "cell_type": "code",
   "execution_count": 17,
   "metadata": {},
   "outputs": [
    {
     "name": "stdout",
     "output_type": "stream",
     "text": [
      "2019-05-26 14:47:16,981 INFO sqlalchemy.engine.base.Engine DELETE FROM data WHERE data.id = ?\n",
      "2019-05-26 14:47:16,983 INFO sqlalchemy.engine.base.Engine (1,)\n",
      "2019-05-26 14:47:16,991 INFO sqlalchemy.engine.base.Engine COMMIT\n"
     ]
    }
   ],
   "source": [
    "db_session.delete(datum)\n",
    "db_session.commit()"
   ]
  },
  {
   "cell_type": "code",
   "execution_count": 18,
   "metadata": {},
   "outputs": [
    {
     "name": "stdout",
     "output_type": "stream",
     "text": [
      "2019-05-26 14:47:17,016 INFO sqlalchemy.engine.base.Engine BEGIN (implicit)\n",
      "2019-05-26 14:47:17,018 INFO sqlalchemy.engine.base.Engine SELECT data.id AS data_id, data.date AS data_date, data.subscribers AS data_subscribers, data.reviews AS data_reviews, data.timestamp AS data_timestamp \n",
      "FROM data\n",
      "2019-05-26 14:47:17,019 INFO sqlalchemy.engine.base.Engine ()\n"
     ]
    },
    {
     "data": {
      "text/plain": [
       "[<assets.models.Data at 0x7f6b8dc7f668>,\n",
       " <assets.models.Data at 0x7f6b8dc7f6d8>]"
      ]
     },
     "execution_count": 18,
     "metadata": {},
     "output_type": "execute_result"
    }
   ],
   "source": [
    "db_session.query(Data).all()"
   ]
  },
  {
   "cell_type": "code",
   "execution_count": 19,
   "metadata": {},
   "outputs": [
    {
     "name": "stdout",
     "output_type": "stream",
     "text": [
      "2019-05-26 14:47:17,032 INFO sqlalchemy.engine.base.Engine DELETE FROM data\n",
      "2019-05-26 14:47:17,034 INFO sqlalchemy.engine.base.Engine ()\n"
     ]
    },
    {
     "data": {
      "text/plain": [
       "2"
      ]
     },
     "execution_count": 19,
     "metadata": {},
     "output_type": "execute_result"
    }
   ],
   "source": [
    "Data.query.delete()"
   ]
  },
  {
   "cell_type": "code",
   "execution_count": 20,
   "metadata": {},
   "outputs": [
    {
     "name": "stdout",
     "output_type": "stream",
     "text": [
      "2019-05-26 14:47:42,795 INFO sqlalchemy.engine.base.Engine SELECT data.id AS data_id, data.date AS data_date, data.subscribers AS data_subscribers, data.reviews AS data_reviews, data.timestamp AS data_timestamp \n",
      "FROM data\n",
      "2019-05-26 14:47:42,797 INFO sqlalchemy.engine.base.Engine ()\n"
     ]
    },
    {
     "data": {
      "text/plain": [
       "[]"
      ]
     },
     "execution_count": 20,
     "metadata": {},
     "output_type": "execute_result"
    }
   ],
   "source": [
    "db_session.query(Data).all()"
   ]
  }
 ],
 "metadata": {
  "kernelspec": {
   "display_name": "Python 3",
   "language": "python",
   "name": "python3"
  },
  "language_info": {
   "codemirror_mode": {
    "name": "ipython",
    "version": 3
   },
   "file_extension": ".py",
   "mimetype": "text/x-python",
   "name": "python",
   "nbconvert_exporter": "python",
   "pygments_lexer": "ipython3",
   "version": "3.7.1"
  }
 },
 "nbformat": 4,
 "nbformat_minor": 2
}
