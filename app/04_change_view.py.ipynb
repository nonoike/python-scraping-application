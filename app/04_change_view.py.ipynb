{
 "cells": [
  {
   "cell_type": "code",
   "execution_count": 30,
   "metadata": {},
   "outputs": [],
   "source": [
    "from assets.database import db_session\n",
    "from assets.models import Data\n",
    "import pandas as pd"
   ]
  },
  {
   "cell_type": "code",
   "execution_count": 31,
   "metadata": {},
   "outputs": [
    {
     "name": "stdout",
     "output_type": "stream",
     "text": [
      "2019-05-27 07:12:19,852 INFO sqlalchemy.engine.base.Engine SELECT data.date AS data_date, data.subscribers AS data_subscribers, data.reviews AS data_reviews \n",
      "FROM data\n",
      "2019-05-27 07:12:19,854 INFO sqlalchemy.engine.base.Engine ()\n"
     ]
    }
   ],
   "source": [
    "data = db_session.query(Data.date, Data.subscribers, Data.reviews).all()"
   ]
  },
  {
   "cell_type": "code",
   "execution_count": 32,
   "metadata": {},
   "outputs": [],
   "source": [
    "ts = [(datum.date, datum.subscribers, datum.reviews) for datum in data]\n"
   ]
  },
  {
   "cell_type": "code",
   "execution_count": 33,
   "metadata": {},
   "outputs": [],
   "source": [
    "dates = list(map(lambda x: x[0], ts))\n",
    "subscribers = list(map(lambda x: x[1], ts))\n",
    "reviews = list(map(lambda x: x[2], ts))\n",
    "diff_subscribers = pd.Series(subscribers).diff().values\n",
    "diff_reviews = pd.Series(reviews).diff().values"
   ]
  },
  {
   "cell_type": "code",
   "execution_count": null,
   "metadata": {},
   "outputs": [],
   "source": []
  }
 ],
 "metadata": {
  "kernelspec": {
   "display_name": "Python 3",
   "language": "python",
   "name": "python3"
  },
  "language_info": {
   "codemirror_mode": {
    "name": "ipython",
    "version": 3
   },
   "file_extension": ".py",
   "mimetype": "text/x-python",
   "name": "python",
   "nbconvert_exporter": "python",
   "pygments_lexer": "ipython3",
   "version": "3.7.1"
  }
 },
 "nbformat": 4,
 "nbformat_minor": 2
}
