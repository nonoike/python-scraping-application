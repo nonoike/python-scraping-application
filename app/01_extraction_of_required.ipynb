{
 "cells": [
  {
   "cell_type": "markdown",
   "metadata": {},
   "source": [
    "まとめ"
   ]
  },
  {
   "cell_type": "code",
   "execution_count": 1,
   "metadata": {},
   "outputs": [],
   "source": [
    "import pandas as pd\n",
    "from datetime import datetime\n",
    "\n",
    "df = pd.read_csv('assets/data.csv')\n",
    "\n",
    "dates = df['date'].apply(lambda x: datetime.strptime(x, '%Y/%m/%d').date())\n",
    "n_subscribers = df['subscribers'].values\n",
    "n_reviews = df['reviews'].values\n",
    "diff_subscribers = df['subscribers'].diff().values\n",
    "diff_reviews = df['reviews'].diff().values"
   ]
  },
  {
   "cell_type": "markdown",
   "metadata": {},
   "source": [
    "---"
   ]
  },
  {
   "cell_type": "markdown",
   "metadata": {},
   "source": [
    "詳細"
   ]
  },
  {
   "cell_type": "code",
   "execution_count": 2,
   "metadata": {},
   "outputs": [],
   "source": [
    "import pandas as pd\n",
    "from datetime import datetime"
   ]
  },
  {
   "cell_type": "code",
   "execution_count": 3,
   "metadata": {},
   "outputs": [],
   "source": [
    "df = pd.read_csv('assets/data.csv')"
   ]
  },
  {
   "cell_type": "code",
   "execution_count": 4,
   "metadata": {},
   "outputs": [
    {
     "data": {
      "text/html": [
       "<div>\n",
       "<style scoped>\n",
       "    .dataframe tbody tr th:only-of-type {\n",
       "        vertical-align: middle;\n",
       "    }\n",
       "\n",
       "    .dataframe tbody tr th {\n",
       "        vertical-align: top;\n",
       "    }\n",
       "\n",
       "    .dataframe thead th {\n",
       "        text-align: right;\n",
       "    }\n",
       "</style>\n",
       "<table border=\"1\" class=\"dataframe\">\n",
       "  <thead>\n",
       "    <tr style=\"text-align: right;\">\n",
       "      <th></th>\n",
       "      <th>date</th>\n",
       "      <th>subscribers</th>\n",
       "      <th>reviews</th>\n",
       "    </tr>\n",
       "  </thead>\n",
       "  <tbody>\n",
       "    <tr>\n",
       "      <th>126</th>\n",
       "      <td>2019/5/23</td>\n",
       "      <td>3681</td>\n",
       "      <td>359</td>\n",
       "    </tr>\n",
       "    <tr>\n",
       "      <th>127</th>\n",
       "      <td>2019/5/24</td>\n",
       "      <td>3694</td>\n",
       "      <td>361</td>\n",
       "    </tr>\n",
       "    <tr>\n",
       "      <th>128</th>\n",
       "      <td>2019/5/25</td>\n",
       "      <td>3699</td>\n",
       "      <td>361</td>\n",
       "    </tr>\n",
       "    <tr>\n",
       "      <th>129</th>\n",
       "      <td>2019/5/26</td>\n",
       "      <td>3711</td>\n",
       "      <td>364</td>\n",
       "    </tr>\n",
       "    <tr>\n",
       "      <th>130</th>\n",
       "      <td>2019/5/27</td>\n",
       "      <td>3726</td>\n",
       "      <td>373</td>\n",
       "    </tr>\n",
       "  </tbody>\n",
       "</table>\n",
       "</div>"
      ],
      "text/plain": [
       "          date  subscribers  reviews\n",
       "126  2019/5/23         3681      359\n",
       "127  2019/5/24         3694      361\n",
       "128  2019/5/25         3699      361\n",
       "129  2019/5/26         3711      364\n",
       "130  2019/5/27         3726      373"
      ]
     },
     "metadata": {},
     "output_type": "display_data"
    },
    {
     "name": "stdout",
     "output_type": "stream",
     "text": [
      "<class 'pandas.core.frame.DataFrame'>\n",
      "RangeIndex: 131 entries, 0 to 130\n",
      "Data columns (total 3 columns):\n",
      "date           131 non-null object\n",
      "subscribers    131 non-null int64\n",
      "reviews        131 non-null int64\n",
      "dtypes: int64(2), object(1)\n",
      "memory usage: 3.1+ KB\n"
     ]
    },
    {
     "data": {
      "text/plain": [
       "None"
      ]
     },
     "metadata": {},
     "output_type": "display_data"
    }
   ],
   "source": [
    "display(df.tail())\n",
    "display(df.info())"
   ]
  },
  {
   "cell_type": "code",
   "execution_count": 5,
   "metadata": {},
   "outputs": [
    {
     "data": {
      "text/plain": [
       "0    2019-01-17\n",
       "1    2019-01-18\n",
       "2    2019-01-19\n",
       "3    2019-01-20\n",
       "4    2019-01-21\n",
       "Name: date, dtype: object"
      ]
     },
     "execution_count": 5,
     "metadata": {},
     "output_type": "execute_result"
    }
   ],
   "source": [
    "dates = df['date'].apply(lambda x: datetime.strptime(x, '%Y/%m/%d').date())\n",
    "dates.head()"
   ]
  },
  {
   "cell_type": "code",
   "execution_count": 6,
   "metadata": {},
   "outputs": [
    {
     "data": {
      "text/plain": [
       "array([2671, 2671, 2674, 2685, 2695, 2701, 2710, 2718, 2722, 2725, 2734,\n",
       "       2753, 2773, 2785, 2803, 2845, 2847, 2847, 2851, 2852, 2857, 2861,\n",
       "       2865, 2870, 2875, 2892, 2906, 2919, 2942, 2974, 2977, 2978, 2981,\n",
       "       2983, 2984, 2987, 2989, 2993, 2995, 3009, 3014, 3023, 3031, 3052,\n",
       "       3060, 3062, 3063, 3066, 3071, 3074, 3076, 3077, 3080, 3087, 3089,\n",
       "       3093, 3098, 3104, 3112, 3120, 3131, 3142, 3162, 3173, 3180, 3187,\n",
       "       3189, 3196, 3212, 3220, 3226, 3241, 3253, 3255, 3258, 3262, 3264,\n",
       "       3272, 3275, 3276, 3279, 3285, 3300, 3306, 3312, 3319, 3324, 3325,\n",
       "       3329, 3331, 3332, 3333, 3336, 3339, 3343, 3349, 3357, 3370, 3388,\n",
       "       3412, 3437, 3439, 3440, 3447, 3466, 3481, 3504, 3522, 3527, 3533,\n",
       "       3543, 3546, 3555, 3566, 3583, 3594, 3614, 3633, 3647, 3648, 3649,\n",
       "       3651, 3654, 3658, 3671, 3675, 3681, 3694, 3699, 3711, 3726])"
      ]
     },
     "execution_count": 6,
     "metadata": {},
     "output_type": "execute_result"
    }
   ],
   "source": [
    "n_subscribers = df['subscribers'].values\n",
    "n_subscribers"
   ]
  },
  {
   "cell_type": "code",
   "execution_count": 7,
   "metadata": {},
   "outputs": [
    {
     "data": {
      "text/plain": [
       "array([194, 195, 197, 199, 199, 200, 200, 201, 201, 201, 202, 204, 206,\n",
       "       208, 210, 211, 213, 213, 217, 218, 219, 220, 222, 224, 224, 227,\n",
       "       229, 229, 231, 232, 234, 234, 234, 234, 237, 239, 239, 241, 241,\n",
       "       241, 243, 243, 243, 244, 245, 246, 249, 252, 254, 255, 256, 258,\n",
       "       258, 261, 261, 262, 262, 262, 262, 262, 265, 266, 266, 268, 269,\n",
       "       271, 271, 274, 274, 274, 275, 275, 278, 278, 280, 282, 282, 282,\n",
       "       284, 287, 289, 289, 291, 293, 295, 295, 295, 297, 298, 299, 299,\n",
       "       299, 299, 299, 300, 302, 303, 303, 304, 304, 305, 305, 308, 309,\n",
       "       310, 311, 314, 317, 322, 324, 327, 328, 330, 332, 334, 335, 338,\n",
       "       340, 344, 349, 349, 351, 351, 354, 354, 359, 359, 361, 361, 364,\n",
       "       373])"
      ]
     },
     "execution_count": 7,
     "metadata": {},
     "output_type": "execute_result"
    }
   ],
   "source": [
    "n_reviews = df['reviews'].values\n",
    "n_reviews"
   ]
  },
  {
   "cell_type": "code",
   "execution_count": 8,
   "metadata": {},
   "outputs": [
    {
     "data": {
      "text/plain": [
       "array([nan,  0.,  3., 11., 10.,  6.,  9.,  8.,  4.,  3.,  9., 19., 20.,\n",
       "       12., 18., 42.,  2.,  0.,  4.,  1.,  5.,  4.,  4.,  5.,  5., 17.,\n",
       "       14., 13., 23., 32.,  3.,  1.,  3.,  2.,  1.,  3.,  2.,  4.,  2.,\n",
       "       14.,  5.,  9.,  8., 21.,  8.,  2.,  1.,  3.,  5.,  3.,  2.,  1.,\n",
       "        3.,  7.,  2.,  4.,  5.,  6.,  8.,  8., 11., 11., 20., 11.,  7.,\n",
       "        7.,  2.,  7., 16.,  8.,  6., 15., 12.,  2.,  3.,  4.,  2.,  8.,\n",
       "        3.,  1.,  3.,  6., 15.,  6.,  6.,  7.,  5.,  1.,  4.,  2.,  1.,\n",
       "        1.,  3.,  3.,  4.,  6.,  8., 13., 18., 24., 25.,  2.,  1.,  7.,\n",
       "       19., 15., 23., 18.,  5.,  6., 10.,  3.,  9., 11., 17., 11., 20.,\n",
       "       19., 14.,  1.,  1.,  2.,  3.,  4., 13.,  4.,  6., 13.,  5., 12.,\n",
       "       15.])"
      ]
     },
     "execution_count": 8,
     "metadata": {},
     "output_type": "execute_result"
    }
   ],
   "source": [
    "diff_subscribers = df['subscribers'].diff().values\n",
    "diff_subscribers"
   ]
  },
  {
   "cell_type": "code",
   "execution_count": 9,
   "metadata": {},
   "outputs": [
    {
     "data": {
      "text/plain": [
       "array([nan,  1.,  2.,  2.,  0.,  1.,  0.,  1.,  0.,  0.,  1.,  2.,  2.,\n",
       "        2.,  2.,  1.,  2.,  0.,  4.,  1.,  1.,  1.,  2.,  2.,  0.,  3.,\n",
       "        2.,  0.,  2.,  1.,  2.,  0.,  0.,  0.,  3.,  2.,  0.,  2.,  0.,\n",
       "        0.,  2.,  0.,  0.,  1.,  1.,  1.,  3.,  3.,  2.,  1.,  1.,  2.,\n",
       "        0.,  3.,  0.,  1.,  0.,  0.,  0.,  0.,  3.,  1.,  0.,  2.,  1.,\n",
       "        2.,  0.,  3.,  0.,  0.,  1.,  0.,  3.,  0.,  2.,  2.,  0.,  0.,\n",
       "        2.,  3.,  2.,  0.,  2.,  2.,  2.,  0.,  0.,  2.,  1.,  1.,  0.,\n",
       "        0.,  0.,  0.,  1.,  2.,  1.,  0.,  1.,  0.,  1.,  0.,  3.,  1.,\n",
       "        1.,  1.,  3.,  3.,  5.,  2.,  3.,  1.,  2.,  2.,  2.,  1.,  3.,\n",
       "        2.,  4.,  5.,  0.,  2.,  0.,  3.,  0.,  5.,  0.,  2.,  0.,  3.,\n",
       "        9.])"
      ]
     },
     "execution_count": 9,
     "metadata": {},
     "output_type": "execute_result"
    }
   ],
   "source": [
    "diff_reviews = df['reviews'].diff().values\n",
    "diff_reviews"
   ]
  },
  {
   "cell_type": "code",
   "execution_count": null,
   "metadata": {},
   "outputs": [],
   "source": []
  }
 ],
 "metadata": {
  "kernelspec": {
   "display_name": "Python 3",
   "language": "python",
   "name": "python3"
  },
  "language_info": {
   "codemirror_mode": {
    "name": "ipython",
    "version": 3
   },
   "file_extension": ".py",
   "mimetype": "text/x-python",
   "name": "python",
   "nbconvert_exporter": "python",
   "pygments_lexer": "ipython3",
   "version": "3.7.1"
  }
 },
 "nbformat": 4,
 "nbformat_minor": 2
}
